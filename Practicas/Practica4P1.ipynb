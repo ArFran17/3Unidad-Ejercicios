{
 "cells": [
  {
   "cell_type": "code",
   "execution_count": 2,
   "metadata": {},
   "outputs": [
    {
     "ename": "AttributeError",
     "evalue": "module 'numpy' has no attribute 'math'",
     "output_type": "error",
     "traceback": [
      "\u001b[1;31m---------------------------------------------------------------------------\u001b[0m",
      "\u001b[1;31mAttributeError\u001b[0m                            Traceback (most recent call last)",
      "Cell \u001b[1;32mIn[2], line 22\u001b[0m\n\u001b[0;32m     19\u001b[0m     \u001b[38;5;28;01mreturn\u001b[39;00m k\n\u001b[0;32m     21\u001b[0m \u001b[38;5;66;03m# Generar demanda simulada usando transformada inversa\u001b[39;00m\n\u001b[1;32m---> 22\u001b[0m demanda_simulada \u001b[38;5;241m=\u001b[39m \u001b[43m[\u001b[49m\u001b[43mpoisson_inverse_transform\u001b[49m\u001b[43m(\u001b[49m\u001b[43mlambda_poisson\u001b[49m\u001b[43m,\u001b[49m\u001b[43m \u001b[49m\u001b[43mu\u001b[49m\u001b[43m)\u001b[49m\u001b[43m \u001b[49m\u001b[38;5;28;43;01mfor\u001b[39;49;00m\u001b[43m \u001b[49m\u001b[43mu\u001b[49m\u001b[43m \u001b[49m\u001b[38;5;129;43;01min\u001b[39;49;00m\u001b[43m \u001b[49m\u001b[43mU\u001b[49m\u001b[43m]\u001b[49m\n\u001b[0;32m     24\u001b[0m \u001b[38;5;66;03m# Mostrar los resultados\u001b[39;00m\n\u001b[0;32m     25\u001b[0m \u001b[38;5;28mprint\u001b[39m(\u001b[38;5;124m\"\u001b[39m\u001b[38;5;124mDemanda diaria simulada:\u001b[39m\u001b[38;5;124m\"\u001b[39m, demanda_simulada)\n",
      "Cell \u001b[1;32mIn[2], line 22\u001b[0m, in \u001b[0;36m<listcomp>\u001b[1;34m(.0)\u001b[0m\n\u001b[0;32m     19\u001b[0m     \u001b[38;5;28;01mreturn\u001b[39;00m k\n\u001b[0;32m     21\u001b[0m \u001b[38;5;66;03m# Generar demanda simulada usando transformada inversa\u001b[39;00m\n\u001b[1;32m---> 22\u001b[0m demanda_simulada \u001b[38;5;241m=\u001b[39m [\u001b[43mpoisson_inverse_transform\u001b[49m\u001b[43m(\u001b[49m\u001b[43mlambda_poisson\u001b[49m\u001b[43m,\u001b[49m\u001b[43m \u001b[49m\u001b[43mu\u001b[49m\u001b[43m)\u001b[49m \u001b[38;5;28;01mfor\u001b[39;00m u \u001b[38;5;129;01min\u001b[39;00m U]\n\u001b[0;32m     24\u001b[0m \u001b[38;5;66;03m# Mostrar los resultados\u001b[39;00m\n\u001b[0;32m     25\u001b[0m \u001b[38;5;28mprint\u001b[39m(\u001b[38;5;124m\"\u001b[39m\u001b[38;5;124mDemanda diaria simulada:\u001b[39m\u001b[38;5;124m\"\u001b[39m, demanda_simulada)\n",
      "Cell \u001b[1;32mIn[2], line 18\u001b[0m, in \u001b[0;36mpoisson_inverse_transform\u001b[1;34m(lambda_poisson, U)\u001b[0m\n\u001b[0;32m     16\u001b[0m \u001b[38;5;28;01mwhile\u001b[39;00m U \u001b[38;5;241m>\u001b[39m F_k:\n\u001b[0;32m     17\u001b[0m     k \u001b[38;5;241m+\u001b[39m\u001b[38;5;241m=\u001b[39m \u001b[38;5;241m1\u001b[39m\n\u001b[1;32m---> 18\u001b[0m     F_k \u001b[38;5;241m+\u001b[39m\u001b[38;5;241m=\u001b[39m (lambda_poisson\u001b[38;5;241m*\u001b[39m\u001b[38;5;241m*\u001b[39mk \u001b[38;5;241m*\u001b[39m np\u001b[38;5;241m.\u001b[39mexp(\u001b[38;5;241m-\u001b[39mlambda_poisson)) \u001b[38;5;241m/\u001b[39m \u001b[43mnp\u001b[49m\u001b[38;5;241;43m.\u001b[39;49m\u001b[43mmath\u001b[49m\u001b[38;5;241m.\u001b[39mfactorial(k)\n\u001b[0;32m     19\u001b[0m \u001b[38;5;28;01mreturn\u001b[39;00m k\n",
      "File \u001b[1;32m~\\AppData\\Local\\Packages\\PythonSoftwareFoundation.Python.3.11_qbz5n2kfra8p0\\LocalCache\\local-packages\\Python311\\site-packages\\numpy\\__init__.py:428\u001b[0m, in \u001b[0;36m__getattr__\u001b[1;34m(attr)\u001b[0m\n\u001b[0;32m    425\u001b[0m     \u001b[38;5;28;01mimport\u001b[39;00m \u001b[38;5;21;01mnumpy\u001b[39;00m\u001b[38;5;21;01m.\u001b[39;00m\u001b[38;5;21;01mchar\u001b[39;00m \u001b[38;5;28;01mas\u001b[39;00m \u001b[38;5;21;01mchar\u001b[39;00m\n\u001b[0;32m    426\u001b[0m     \u001b[38;5;28;01mreturn\u001b[39;00m char\u001b[38;5;241m.\u001b[39mchararray\n\u001b[1;32m--> 428\u001b[0m \u001b[38;5;28;01mraise\u001b[39;00m \u001b[38;5;167;01mAttributeError\u001b[39;00m(\u001b[38;5;124m\"\u001b[39m\u001b[38;5;124mmodule \u001b[39m\u001b[38;5;132;01m{!r}\u001b[39;00m\u001b[38;5;124m has no attribute \u001b[39m\u001b[38;5;124m\"\u001b[39m\n\u001b[0;32m    429\u001b[0m                      \u001b[38;5;124m\"\u001b[39m\u001b[38;5;132;01m{!r}\u001b[39;00m\u001b[38;5;124m\"\u001b[39m\u001b[38;5;241m.\u001b[39mformat(\u001b[38;5;18m__name__\u001b[39m, attr))\n",
      "\u001b[1;31mAttributeError\u001b[0m: module 'numpy' has no attribute 'math'"
     ]
    }
   ],
   "source": [
    "import numpy as np\n",
    "import matplotlib.pyplot as plt\n",
    "import math\n",
    "\n",
    "# Parámetro de la distribución Poisson (media de la demanda diaria)\n",
    "lambda_poisson = 5  # Por ejemplo, 5 teléfonos móviles por día\n",
    "\n",
    "# Generar una variable aleatoria uniforme U ~ Uniform(0, 1)\n",
    "n = 100  # Número de simulaciones\n",
    "U = np.random.uniform(0, 1, n)\n",
    "\n",
    "# Aplicar la transformada inversa para la distribución Poisson\n",
    "def poisson_inverse_transform(lambda_poisson, U):\n",
    "    k = 0\n",
    "    F_k = np.exp(-lambda_poisson)  # Primera probabilidad acumulada (k=0)\n",
    "    while U > F_k:\n",
    "        k += 1\n",
    "        F_k += (lambda_poisson**k * np.exp(-lambda_poisson)) / np.math.factorial(k)\n",
    "    return k\n",
    "\n",
    "# Generar demanda simulada usando transformada inversa\n",
    "demanda_simulada = [poisson_inverse_transform(lambda_poisson, u) for u in U]\n",
    "\n",
    "# Mostrar los resultados\n",
    "print(\"Demanda diaria simulada:\", demanda_simulada)\n",
    "\n",
    "# Graficar histograma de la demanda simulada\n",
    "plt.hist(demanda_simulada, bins=np.arange(0, max(demanda_simulada) + 1) - 0.5, edgecolor='black', density=True)\n",
    "plt.title(\"Simulación de demanda diaria (Distribución Poisson)\")\n",
    "plt.xlabel(\"Número de productos demandados\")\n",
    "plt.ylabel(\"Frecuencia\")\n",
    "plt.show()"
   ]
  }
 ],
 "metadata": {
  "kernelspec": {
   "display_name": "Python 3",
   "language": "python",
   "name": "python3"
  },
  "language_info": {
   "codemirror_mode": {
    "name": "ipython",
    "version": 3
   },
   "file_extension": ".py",
   "mimetype": "text/x-python",
   "name": "python",
   "nbconvert_exporter": "python",
   "pygments_lexer": "ipython3",
   "version": "3.11.9"
  }
 },
 "nbformat": 4,
 "nbformat_minor": 2
}
